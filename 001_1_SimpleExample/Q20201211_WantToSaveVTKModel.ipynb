{
 "cells": [
  {
   "cell_type": "code",
   "execution_count": 1,
   "metadata": {},
   "outputs": [],
   "source": [
    "%matplotlib inline\n",
    "from pyvista import set_plot_theme\n",
    "set_plot_theme('document')"
   ]
  },
  {
   "cell_type": "markdown",
   "metadata": {},
   "source": [
    "\n",
    "# Claudius\n"
   ]
  },
  {
   "cell_type": "code",
   "execution_count": 2,
   "metadata": {},
   "outputs": [],
   "source": [
    "import sys, os\n",
    "os.environ[\"THEANO_FLAGS\"] = \"mode=FAST_RUN,device=cpu\"\n",
    "\n",
    "# Importing gempy\n",
    "import gempy as gp\n",
    "\n",
    "# Aux imports\n",
    "import numpy as np\n",
    "import pandas as pn"
   ]
  },
  {
   "cell_type": "markdown",
   "metadata": {},
   "source": [
    "# Loading data from repository:\n",
    "\n",
    "With pandas we can do it directly from the web and with the right args\n",
    "we can directly tidy the data in gempy style:\n",
    "\n",
    "\n"
   ]
  },
  {
   "cell_type": "code",
   "execution_count": 3,
   "metadata": {},
   "outputs": [
    {
     "data": {
      "text/html": [
       "<div>\n",
       "<style scoped>\n",
       "    .dataframe tbody tr th:only-of-type {\n",
       "        vertical-align: middle;\n",
       "    }\n",
       "\n",
       "    .dataframe tbody tr th {\n",
       "        vertical-align: top;\n",
       "    }\n",
       "\n",
       "    .dataframe thead th {\n",
       "        text-align: right;\n",
       "    }\n",
       "</style>\n",
       "<table border=\"1\" class=\"dataframe\">\n",
       "  <thead>\n",
       "    <tr style=\"text-align: right;\">\n",
       "      <th></th>\n",
       "      <th>index</th>\n",
       "      <th>X</th>\n",
       "      <th>Y</th>\n",
       "      <th>Z</th>\n",
       "      <th>cutoff</th>\n",
       "      <th>surface</th>\n",
       "    </tr>\n",
       "  </thead>\n",
       "  <tbody>\n",
       "    <tr>\n",
       "      <th>4079</th>\n",
       "      <td>88</td>\n",
       "      <td>551099.250977</td>\n",
       "      <td>7.817652e+06</td>\n",
       "      <td>-10466.863281</td>\n",
       "      <td>NaN</td>\n",
       "      <td>Claudius_fault</td>\n",
       "    </tr>\n",
       "    <tr>\n",
       "      <th>4080</th>\n",
       "      <td>89</td>\n",
       "      <td>551160.807495</td>\n",
       "      <td>7.817503e+06</td>\n",
       "      <td>-10356.463867</td>\n",
       "      <td>NaN</td>\n",
       "      <td>Claudius_fault</td>\n",
       "    </tr>\n",
       "    <tr>\n",
       "      <th>4081</th>\n",
       "      <td>90</td>\n",
       "      <td>551131.898438</td>\n",
       "      <td>7.817659e+06</td>\n",
       "      <td>-10383.323242</td>\n",
       "      <td>NaN</td>\n",
       "      <td>Claudius_fault</td>\n",
       "    </tr>\n",
       "    <tr>\n",
       "      <th>4082</th>\n",
       "      <td>91</td>\n",
       "      <td>551164.412476</td>\n",
       "      <td>7.817654e+06</td>\n",
       "      <td>-10299.957031</td>\n",
       "      <td>NaN</td>\n",
       "      <td>Claudius_fault</td>\n",
       "    </tr>\n",
       "    <tr>\n",
       "      <th>4083</th>\n",
       "      <td>92</td>\n",
       "      <td>551197.192139</td>\n",
       "      <td>7.817647e+06</td>\n",
       "      <td>-10216.820312</td>\n",
       "      <td>NaN</td>\n",
       "      <td>Claudius_fault</td>\n",
       "    </tr>\n",
       "  </tbody>\n",
       "</table>\n",
       "</div>"
      ],
      "text/plain": [
       "      index              X             Y             Z  cutoff         surface\n",
       "4079     88  551099.250977  7.817652e+06 -10466.863281     NaN  Claudius_fault\n",
       "4080     89  551160.807495  7.817503e+06 -10356.463867     NaN  Claudius_fault\n",
       "4081     90  551131.898438  7.817659e+06 -10383.323242     NaN  Claudius_fault\n",
       "4082     91  551164.412476  7.817654e+06 -10299.957031     NaN  Claudius_fault\n",
       "4083     92  551197.192139  7.817647e+06 -10216.820312     NaN  Claudius_fault"
      ]
     },
     "execution_count": 3,
     "metadata": {},
     "output_type": "execute_result"
    }
   ],
   "source": [
    "dfs = []\n",
    "for letter in 'ABCD':\n",
    "    dfs.append(pn.read_csv('https://raw.githubusercontent.com/Loop3D/ImplicitBenchmark/master/Claudius/' +\n",
    "                           letter + 'Points.csv', sep=';',\n",
    "                           names=['X', 'Y', 'Z', 'surface', 'cutoff'], header=0)[::5])\n",
    "# Add fault:\n",
    "dfs.append(pn.read_csv('https://raw.githubusercontent.com/Loop3D/ImplicitBenchmark/master/Claudius/Fault.csv',\n",
    "                       names=['X', 'Y', 'Z', 'surface'], header=0, sep=';'))\n",
    "\n",
    "surface_points = pn.concat(dfs, sort=True)\n",
    "surface_points['surface'] =surface_points['surface'].astype('str')\n",
    "# surface_points['surface'] = surface_points['surface'].astype('str')\n",
    "surface_points.reset_index(inplace=True, drop=False)\n",
    "surface_points.tail()"
   ]
  },
  {
   "cell_type": "code",
   "execution_count": 4,
   "metadata": {},
   "outputs": [
    {
     "data": {
      "text/plain": [
       "index        int64\n",
       "X          float64\n",
       "Y          float64\n",
       "Z          float64\n",
       "cutoff     float64\n",
       "surface     object\n",
       "dtype: object"
      ]
     },
     "execution_count": 4,
     "metadata": {},
     "output_type": "execute_result"
    }
   ],
   "source": [
    "surface_points.dtypes"
   ]
  },
  {
   "cell_type": "markdown",
   "metadata": {},
   "source": [
    "How many points are per surface\n",
    "\n",
    "\n"
   ]
  },
  {
   "cell_type": "code",
   "execution_count": 5,
   "metadata": {},
   "outputs": [
    {
     "data": {
      "text/html": [
       "<div>\n",
       "<style scoped>\n",
       "    .dataframe tbody tr th:only-of-type {\n",
       "        vertical-align: middle;\n",
       "    }\n",
       "\n",
       "    .dataframe tbody tr th {\n",
       "        vertical-align: top;\n",
       "    }\n",
       "\n",
       "    .dataframe thead th {\n",
       "        text-align: right;\n",
       "    }\n",
       "</style>\n",
       "<table border=\"1\" class=\"dataframe\">\n",
       "  <thead>\n",
       "    <tr style=\"text-align: right;\">\n",
       "      <th></th>\n",
       "      <th>index</th>\n",
       "      <th>X</th>\n",
       "      <th>Y</th>\n",
       "      <th>Z</th>\n",
       "      <th>cutoff</th>\n",
       "    </tr>\n",
       "    <tr>\n",
       "      <th>surface</th>\n",
       "      <th></th>\n",
       "      <th></th>\n",
       "      <th></th>\n",
       "      <th></th>\n",
       "      <th></th>\n",
       "    </tr>\n",
       "  </thead>\n",
       "  <tbody>\n",
       "    <tr>\n",
       "      <th>0</th>\n",
       "      <td>1000</td>\n",
       "      <td>1000</td>\n",
       "      <td>1000</td>\n",
       "      <td>1000</td>\n",
       "      <td>1000</td>\n",
       "    </tr>\n",
       "    <tr>\n",
       "      <th>250</th>\n",
       "      <td>1000</td>\n",
       "      <td>1000</td>\n",
       "      <td>1000</td>\n",
       "      <td>1000</td>\n",
       "      <td>1000</td>\n",
       "    </tr>\n",
       "    <tr>\n",
       "      <th>330</th>\n",
       "      <td>991</td>\n",
       "      <td>991</td>\n",
       "      <td>991</td>\n",
       "      <td>991</td>\n",
       "      <td>991</td>\n",
       "    </tr>\n",
       "    <tr>\n",
       "      <th>60</th>\n",
       "      <td>1000</td>\n",
       "      <td>1000</td>\n",
       "      <td>1000</td>\n",
       "      <td>1000</td>\n",
       "      <td>1000</td>\n",
       "    </tr>\n",
       "    <tr>\n",
       "      <th>Claudius_fault</th>\n",
       "      <td>93</td>\n",
       "      <td>93</td>\n",
       "      <td>93</td>\n",
       "      <td>93</td>\n",
       "      <td>0</td>\n",
       "    </tr>\n",
       "  </tbody>\n",
       "</table>\n",
       "</div>"
      ],
      "text/plain": [
       "                index     X     Y     Z  cutoff\n",
       "surface                                        \n",
       "0                1000  1000  1000  1000    1000\n",
       "250              1000  1000  1000  1000    1000\n",
       "330               991   991   991   991     991\n",
       "60               1000  1000  1000  1000    1000\n",
       "Claudius_fault     93    93    93    93       0"
      ]
     },
     "execution_count": 5,
     "metadata": {},
     "output_type": "execute_result"
    }
   ],
   "source": [
    "surface_points.groupby('surface').count()"
   ]
  },
  {
   "cell_type": "markdown",
   "metadata": {},
   "source": [
    "Now we do the same with the orientations:\n",
    "\n",
    "\n"
   ]
  },
  {
   "cell_type": "code",
   "execution_count": 6,
   "metadata": {},
   "outputs": [
    {
     "data": {
      "text/html": [
       "<div>\n",
       "<style scoped>\n",
       "    .dataframe tbody tr th:only-of-type {\n",
       "        vertical-align: middle;\n",
       "    }\n",
       "\n",
       "    .dataframe tbody tr th {\n",
       "        vertical-align: top;\n",
       "    }\n",
       "\n",
       "    .dataframe thead th {\n",
       "        text-align: right;\n",
       "    }\n",
       "</style>\n",
       "<table border=\"1\" class=\"dataframe\">\n",
       "  <thead>\n",
       "    <tr style=\"text-align: right;\">\n",
       "      <th></th>\n",
       "      <th>index</th>\n",
       "      <th>-</th>\n",
       "      <th>G_x</th>\n",
       "      <th>G_y</th>\n",
       "      <th>G_z</th>\n",
       "      <th>X</th>\n",
       "      <th>Y</th>\n",
       "      <th>Z</th>\n",
       "      <th>surface</th>\n",
       "    </tr>\n",
       "  </thead>\n",
       "  <tbody>\n",
       "    <tr>\n",
       "      <th>43</th>\n",
       "      <td>19</td>\n",
       "      <td>0.976692</td>\n",
       "      <td>0.187195</td>\n",
       "      <td>0.138165</td>\n",
       "      <td>-0.972558</td>\n",
       "      <td>550989.3105</td>\n",
       "      <td>7817210.527</td>\n",
       "      <td>-9782.967773</td>\n",
       "      <td>330</td>\n",
       "    </tr>\n",
       "    <tr>\n",
       "      <th>44</th>\n",
       "      <td>20</td>\n",
       "      <td>0.248187</td>\n",
       "      <td>-0.080561</td>\n",
       "      <td>-0.043063</td>\n",
       "      <td>-0.995819</td>\n",
       "      <td>550939.3105</td>\n",
       "      <td>7821227.309</td>\n",
       "      <td>-9958.425781</td>\n",
       "      <td>330</td>\n",
       "    </tr>\n",
       "    <tr>\n",
       "      <th>45</th>\n",
       "      <td>21</td>\n",
       "      <td>0.649480</td>\n",
       "      <td>-0.161328</td>\n",
       "      <td>0.075208</td>\n",
       "      <td>-0.984031</td>\n",
       "      <td>549276.8105</td>\n",
       "      <td>7820682.980</td>\n",
       "      <td>-9985.125977</td>\n",
       "      <td>330</td>\n",
       "    </tr>\n",
       "    <tr>\n",
       "      <th>46</th>\n",
       "      <td>22</td>\n",
       "      <td>0.050025</td>\n",
       "      <td>-0.012103</td>\n",
       "      <td>-0.153309</td>\n",
       "      <td>-0.988104</td>\n",
       "      <td>548976.8105</td>\n",
       "      <td>7820345.121</td>\n",
       "      <td>-9974.265625</td>\n",
       "      <td>330</td>\n",
       "    </tr>\n",
       "    <tr>\n",
       "      <th>47</th>\n",
       "      <td>23</td>\n",
       "      <td>0.759421</td>\n",
       "      <td>0.369490</td>\n",
       "      <td>-0.187053</td>\n",
       "      <td>-0.910213</td>\n",
       "      <td>549764.3105</td>\n",
       "      <td>7820457.738</td>\n",
       "      <td>-9901.208984</td>\n",
       "      <td>330</td>\n",
       "    </tr>\n",
       "  </tbody>\n",
       "</table>\n",
       "</div>"
      ],
      "text/plain": [
       "    index         -       G_x       G_y       G_z            X            Y  \\\n",
       "43     19  0.976692  0.187195  0.138165 -0.972558  550989.3105  7817210.527   \n",
       "44     20  0.248187 -0.080561 -0.043063 -0.995819  550939.3105  7821227.309   \n",
       "45     21  0.649480 -0.161328  0.075208 -0.984031  549276.8105  7820682.980   \n",
       "46     22  0.050025 -0.012103 -0.153309 -0.988104  548976.8105  7820345.121   \n",
       "47     23  0.759421  0.369490 -0.187053 -0.910213  549764.3105  7820457.738   \n",
       "\n",
       "              Z surface  \n",
       "43 -9782.967773     330  \n",
       "44 -9958.425781     330  \n",
       "45 -9985.125977     330  \n",
       "46 -9974.265625     330  \n",
       "47 -9901.208984     330  "
      ]
     },
     "execution_count": 6,
     "metadata": {},
     "output_type": "execute_result"
    }
   ],
   "source": [
    "dfs = []\n",
    "\n",
    "for surf in ['0', '330']:\n",
    "    o = pn.read_csv('https://raw.githubusercontent.com/Loop3D/ImplicitBenchmark/master/Claudius/Dips.csv', sep=';',\n",
    "                    names=['X', 'Y', 'Z', 'G_x', 'G_y', 'G_z', '-'], header=1)\n",
    "\n",
    "    # Orientation needs to belong to a surface. This is mainly to categorize to which series belong and to\n",
    "    # use the same color\n",
    "    o['surface'] = surf\n",
    "    dfs.append(o)\n",
    "orientations = pn.concat(dfs, sort=True)\n",
    "orientations.reset_index(inplace=True, drop=False)\n",
    "\n",
    "orientations.tail()"
   ]
  },
  {
   "cell_type": "code",
   "execution_count": 7,
   "metadata": {},
   "outputs": [
    {
     "data": {
      "text/plain": [
       "index        int64\n",
       "-          float64\n",
       "G_x        float64\n",
       "G_y        float64\n",
       "G_z        float64\n",
       "X          float64\n",
       "Y          float64\n",
       "Z          float64\n",
       "surface     object\n",
       "dtype: object"
      ]
     },
     "execution_count": 7,
     "metadata": {},
     "output_type": "execute_result"
    }
   ],
   "source": [
    "orientations.dtypes"
   ]
  },
  {
   "cell_type": "markdown",
   "metadata": {},
   "source": [
    "# Data initialization:\n",
    "\n",
    "Suggested size of the axis-aligned modeling box: Origin: 548800 7816600\n",
    "-8400 Maximum: 552500 7822000 -11010\n",
    "\n",
    "Suggested resolution: 100m x 100m x -90m (grid size 38 x 55 x 30)\n",
    "\n",
    "\n"
   ]
  },
  {
   "cell_type": "markdown",
   "metadata": {},
   "source": [
    "Number of voxels:\n",
    "\n"
   ]
  },
  {
   "cell_type": "code",
   "execution_count": 8,
   "metadata": {},
   "outputs": [
    {
     "data": {
      "text/plain": [
       "62700"
      ]
     },
     "execution_count": 8,
     "metadata": {},
     "output_type": "execute_result"
    }
   ],
   "source": [
    "np.array([38, 55, 30]).prod()"
   ]
  },
  {
   "cell_type": "code",
   "execution_count": 9,
   "metadata": {},
   "outputs": [
    {
     "name": "stdout",
     "output_type": "stream",
     "text": [
      "Active grids: ['regular']\n"
     ]
    }
   ],
   "source": [
    "geo_model = gp.create_model('Claudius')\n",
    "# Importing the data from csv files and settign extent and resolution\n",
    "geo_model = gp.init_data(geo_model,\n",
    "                         extent=[548800, 552500, 7816600, 7822000, -11010, -8400], resolution=[38, 55, 30],\n",
    "                         surface_points_df=surface_points[::5], orientations_df=orientations, surface_name='surface',\n",
    "                         add_basement=True)"
   ]
  },
  {
   "cell_type": "markdown",
   "metadata": {},
   "source": [
    "We are going to increase the smoothness (nugget) of the data to increase\n",
    "the conditional number of the matrix:\n",
    "\n",
    "\n"
   ]
  },
  {
   "cell_type": "code",
   "execution_count": 10,
   "metadata": {},
   "outputs": [
    {
     "data": {
      "text/html": [
       "<div>\n",
       "<style scoped>\n",
       "    .dataframe tbody tr th:only-of-type {\n",
       "        vertical-align: middle;\n",
       "    }\n",
       "\n",
       "    .dataframe tbody tr th {\n",
       "        vertical-align: top;\n",
       "    }\n",
       "\n",
       "    .dataframe thead th {\n",
       "        text-align: right;\n",
       "    }\n",
       "</style>\n",
       "<table border=\"1\" class=\"dataframe\">\n",
       "  <thead>\n",
       "    <tr style=\"text-align: right;\">\n",
       "      <th></th>\n",
       "      <th>X</th>\n",
       "      <th>Y</th>\n",
       "      <th>Z</th>\n",
       "      <th>X_r</th>\n",
       "      <th>Y_r</th>\n",
       "      <th>Z_r</th>\n",
       "      <th>surface</th>\n",
       "      <th>series</th>\n",
       "      <th>id</th>\n",
       "      <th>order_series</th>\n",
       "      <th>smooth</th>\n",
       "    </tr>\n",
       "  </thead>\n",
       "  <tbody>\n",
       "    <tr>\n",
       "      <th>4060</th>\n",
       "      <td>551031.979248</td>\n",
       "      <td>7.816791e+06</td>\n",
       "      <td>-10920.000000</td>\n",
       "      <td>0.535138</td>\n",
       "      <td>0.268301</td>\n",
       "      <td>0.395686</td>\n",
       "      <td>Claudius_fault</td>\n",
       "      <td>Default series</td>\n",
       "      <td>5</td>\n",
       "      <td>1</td>\n",
       "      <td>0.1</td>\n",
       "    </tr>\n",
       "    <tr>\n",
       "      <th>4065</th>\n",
       "      <td>551117.123901</td>\n",
       "      <td>7.816600e+06</td>\n",
       "      <td>-10773.669922</td>\n",
       "      <td>0.543252</td>\n",
       "      <td>0.250100</td>\n",
       "      <td>0.409631</td>\n",
       "      <td>Claudius_fault</td>\n",
       "      <td>Default series</td>\n",
       "      <td>5</td>\n",
       "      <td>1</td>\n",
       "      <td>0.1</td>\n",
       "    </tr>\n",
       "    <tr>\n",
       "      <th>4070</th>\n",
       "      <td>551003.816162</td>\n",
       "      <td>7.817268e+06</td>\n",
       "      <td>-10920.000000</td>\n",
       "      <td>0.532454</td>\n",
       "      <td>0.313798</td>\n",
       "      <td>0.395686</td>\n",
       "      <td>Claudius_fault</td>\n",
       "      <td>Default series</td>\n",
       "      <td>5</td>\n",
       "      <td>1</td>\n",
       "      <td>0.1</td>\n",
       "    </tr>\n",
       "    <tr>\n",
       "      <th>4075</th>\n",
       "      <td>551036.303955</td>\n",
       "      <td>7.817559e+06</td>\n",
       "      <td>-10714.674805</td>\n",
       "      <td>0.535550</td>\n",
       "      <td>0.341503</td>\n",
       "      <td>0.415253</td>\n",
       "      <td>Claudius_fault</td>\n",
       "      <td>Default series</td>\n",
       "      <td>5</td>\n",
       "      <td>1</td>\n",
       "      <td>0.1</td>\n",
       "    </tr>\n",
       "    <tr>\n",
       "      <th>4080</th>\n",
       "      <td>551160.807495</td>\n",
       "      <td>7.817503e+06</td>\n",
       "      <td>-10356.463867</td>\n",
       "      <td>0.547415</td>\n",
       "      <td>0.336161</td>\n",
       "      <td>0.449390</td>\n",
       "      <td>Claudius_fault</td>\n",
       "      <td>Default series</td>\n",
       "      <td>5</td>\n",
       "      <td>1</td>\n",
       "      <td>0.1</td>\n",
       "    </tr>\n",
       "  </tbody>\n",
       "</table>\n",
       "</div>"
      ],
      "text/plain": [
       "                  X             Y             Z       X_r       Y_r       Z_r  \\\n",
       "4060  551031.979248  7.816791e+06 -10920.000000  0.535138  0.268301  0.395686   \n",
       "4065  551117.123901  7.816600e+06 -10773.669922  0.543252  0.250100  0.409631   \n",
       "4070  551003.816162  7.817268e+06 -10920.000000  0.532454  0.313798  0.395686   \n",
       "4075  551036.303955  7.817559e+06 -10714.674805  0.535550  0.341503  0.415253   \n",
       "4080  551160.807495  7.817503e+06 -10356.463867  0.547415  0.336161  0.449390   \n",
       "\n",
       "             surface          series  id  order_series  smooth  \n",
       "4060  Claudius_fault  Default series   5             1     0.1  \n",
       "4065  Claudius_fault  Default series   5             1     0.1  \n",
       "4070  Claudius_fault  Default series   5             1     0.1  \n",
       "4075  Claudius_fault  Default series   5             1     0.1  \n",
       "4080  Claudius_fault  Default series   5             1     0.1  "
      ]
     },
     "execution_count": 10,
     "metadata": {},
     "output_type": "execute_result"
    }
   ],
   "source": [
    "geo_model.modify_surface_points(geo_model.surface_points.df.index, smooth=0.1).df.tail()"
   ]
  },
  {
   "cell_type": "markdown",
   "metadata": {},
   "source": [
    "Also the original poles are pointing downwards. We can change the\n",
    "direction by calling the following:\n",
    "\n",
    "\n"
   ]
  },
  {
   "cell_type": "code",
   "execution_count": 11,
   "metadata": {},
   "outputs": [
    {
     "data": {
      "text/html": [
       "<div>\n",
       "<style scoped>\n",
       "    .dataframe tbody tr th:only-of-type {\n",
       "        vertical-align: middle;\n",
       "    }\n",
       "\n",
       "    .dataframe tbody tr th {\n",
       "        vertical-align: top;\n",
       "    }\n",
       "\n",
       "    .dataframe thead th {\n",
       "        text-align: right;\n",
       "    }\n",
       "</style>\n",
       "<table border=\"1\" class=\"dataframe\">\n",
       "  <thead>\n",
       "    <tr style=\"text-align: right;\">\n",
       "      <th></th>\n",
       "      <th>X</th>\n",
       "      <th>Y</th>\n",
       "      <th>Z</th>\n",
       "      <th>X_r</th>\n",
       "      <th>Y_r</th>\n",
       "      <th>Z_r</th>\n",
       "      <th>G_x</th>\n",
       "      <th>G_y</th>\n",
       "      <th>G_z</th>\n",
       "      <th>dip</th>\n",
       "      <th>azimuth</th>\n",
       "      <th>polarity</th>\n",
       "      <th>surface</th>\n",
       "      <th>series</th>\n",
       "      <th>id</th>\n",
       "      <th>order_series</th>\n",
       "      <th>smooth</th>\n",
       "    </tr>\n",
       "  </thead>\n",
       "  <tbody>\n",
       "    <tr>\n",
       "      <th>43</th>\n",
       "      <td>550989.3105</td>\n",
       "      <td>7817210.527</td>\n",
       "      <td>-9782.967773</td>\n",
       "      <td>0.531072</td>\n",
       "      <td>0.308282</td>\n",
       "      <td>0.504043</td>\n",
       "      <td>-0.187194</td>\n",
       "      <td>-0.138164</td>\n",
       "      <td>0.972558</td>\n",
       "      <td>166.546239</td>\n",
       "      <td>53.569684</td>\n",
       "      <td>-1.0</td>\n",
       "      <td>330</td>\n",
       "      <td>Default series</td>\n",
       "      <td>4</td>\n",
       "      <td>1</td>\n",
       "      <td>0.01</td>\n",
       "    </tr>\n",
       "    <tr>\n",
       "      <th>44</th>\n",
       "      <td>550939.3105</td>\n",
       "      <td>7821227.309</td>\n",
       "      <td>-9958.425781</td>\n",
       "      <td>0.526307</td>\n",
       "      <td>0.691072</td>\n",
       "      <td>0.487322</td>\n",
       "      <td>0.080561</td>\n",
       "      <td>0.043063</td>\n",
       "      <td>0.995819</td>\n",
       "      <td>174.758819</td>\n",
       "      <td>241.873756</td>\n",
       "      <td>-1.0</td>\n",
       "      <td>330</td>\n",
       "      <td>Default series</td>\n",
       "      <td>4</td>\n",
       "      <td>1</td>\n",
       "      <td>0.01</td>\n",
       "    </tr>\n",
       "    <tr>\n",
       "      <th>45</th>\n",
       "      <td>549276.8105</td>\n",
       "      <td>7820682.980</td>\n",
       "      <td>-9985.125977</td>\n",
       "      <td>0.367875</td>\n",
       "      <td>0.639198</td>\n",
       "      <td>0.484777</td>\n",
       "      <td>0.161328</td>\n",
       "      <td>-0.075208</td>\n",
       "      <td>0.984031</td>\n",
       "      <td>169.746878</td>\n",
       "      <td>294.994025</td>\n",
       "      <td>-1.0</td>\n",
       "      <td>330</td>\n",
       "      <td>Default series</td>\n",
       "      <td>4</td>\n",
       "      <td>1</td>\n",
       "      <td>0.01</td>\n",
       "    </tr>\n",
       "    <tr>\n",
       "      <th>46</th>\n",
       "      <td>548976.8105</td>\n",
       "      <td>7820345.121</td>\n",
       "      <td>-9974.265625</td>\n",
       "      <td>0.339285</td>\n",
       "      <td>0.607001</td>\n",
       "      <td>0.485812</td>\n",
       "      <td>0.012103</td>\n",
       "      <td>0.153310</td>\n",
       "      <td>0.988104</td>\n",
       "      <td>171.153539</td>\n",
       "      <td>184.513861</td>\n",
       "      <td>-1.0</td>\n",
       "      <td>330</td>\n",
       "      <td>Default series</td>\n",
       "      <td>4</td>\n",
       "      <td>1</td>\n",
       "      <td>0.01</td>\n",
       "    </tr>\n",
       "    <tr>\n",
       "      <th>47</th>\n",
       "      <td>549764.3105</td>\n",
       "      <td>7820457.738</td>\n",
       "      <td>-9901.208984</td>\n",
       "      <td>0.414332</td>\n",
       "      <td>0.617733</td>\n",
       "      <td>0.492775</td>\n",
       "      <td>-0.369491</td>\n",
       "      <td>0.187053</td>\n",
       "      <td>0.910213</td>\n",
       "      <td>155.534803</td>\n",
       "      <td>116.850651</td>\n",
       "      <td>-1.0</td>\n",
       "      <td>330</td>\n",
       "      <td>Default series</td>\n",
       "      <td>4</td>\n",
       "      <td>1</td>\n",
       "      <td>0.01</td>\n",
       "    </tr>\n",
       "  </tbody>\n",
       "</table>\n",
       "</div>"
      ],
      "text/plain": [
       "              X            Y            Z       X_r       Y_r       Z_r  \\\n",
       "43  550989.3105  7817210.527 -9782.967773  0.531072  0.308282  0.504043   \n",
       "44  550939.3105  7821227.309 -9958.425781  0.526307  0.691072  0.487322   \n",
       "45  549276.8105  7820682.980 -9985.125977  0.367875  0.639198  0.484777   \n",
       "46  548976.8105  7820345.121 -9974.265625  0.339285  0.607001  0.485812   \n",
       "47  549764.3105  7820457.738 -9901.208984  0.414332  0.617733  0.492775   \n",
       "\n",
       "         G_x       G_y       G_z         dip     azimuth  polarity surface  \\\n",
       "43 -0.187194 -0.138164  0.972558  166.546239   53.569684      -1.0     330   \n",
       "44  0.080561  0.043063  0.995819  174.758819  241.873756      -1.0     330   \n",
       "45  0.161328 -0.075208  0.984031  169.746878  294.994025      -1.0     330   \n",
       "46  0.012103  0.153310  0.988104  171.153539  184.513861      -1.0     330   \n",
       "47 -0.369491  0.187053  0.910213  155.534803  116.850651      -1.0     330   \n",
       "\n",
       "            series  id  order_series  smooth  \n",
       "43  Default series   4             1    0.01  \n",
       "44  Default series   4             1    0.01  \n",
       "45  Default series   4             1    0.01  \n",
       "46  Default series   4             1    0.01  \n",
       "47  Default series   4             1    0.01  "
      ]
     },
     "execution_count": 11,
     "metadata": {},
     "output_type": "execute_result"
    }
   ],
   "source": [
    "geo_model.modify_orientations(geo_model.orientations.df.index, polarity=-1).df.tail()"
   ]
  },
  {
   "cell_type": "markdown",
   "metadata": {},
   "source": [
    "We need an orientation per series/fault. The faults does not have\n",
    "orientation so the easiest is to create an orientation from the surface\n",
    "points availablle:\n",
    "\n",
    "\n"
   ]
  },
  {
   "cell_type": "code",
   "execution_count": 12,
   "metadata": {},
   "outputs": [
    {
     "name": "stderr",
     "output_type": "stream",
     "text": [
      "D:\\Hsintien_tsai\\Anaconda3\\envs\\GempyEnve1208\\lib\\site-packages\\gempy\\core\\data_modules\\geometric_data.py:599: UserWarning: If pole_vector and orientation are passed pole_vector is used/\n",
      "  warnings.warn('If pole_vector and orientation are passed pole_vector is used/')\n"
     ]
    },
    {
     "data": {
      "text/html": [
       "<div>\n",
       "<style scoped>\n",
       "    .dataframe tbody tr th:only-of-type {\n",
       "        vertical-align: middle;\n",
       "    }\n",
       "\n",
       "    .dataframe tbody tr th {\n",
       "        vertical-align: top;\n",
       "    }\n",
       "\n",
       "    .dataframe thead th {\n",
       "        text-align: right;\n",
       "    }\n",
       "</style>\n",
       "<table border=\"1\" class=\"dataframe\">\n",
       "  <thead>\n",
       "    <tr style=\"text-align: right;\">\n",
       "      <th></th>\n",
       "      <th>X</th>\n",
       "      <th>Y</th>\n",
       "      <th>Z</th>\n",
       "      <th>X_r</th>\n",
       "      <th>Y_r</th>\n",
       "      <th>Z_r</th>\n",
       "      <th>G_x</th>\n",
       "      <th>G_y</th>\n",
       "      <th>G_z</th>\n",
       "      <th>dip</th>\n",
       "      <th>azimuth</th>\n",
       "      <th>polarity</th>\n",
       "      <th>surface</th>\n",
       "      <th>series</th>\n",
       "      <th>id</th>\n",
       "      <th>order_series</th>\n",
       "      <th>smooth</th>\n",
       "    </tr>\n",
       "  </thead>\n",
       "  <tbody>\n",
       "    <tr>\n",
       "      <th>44</th>\n",
       "      <td>550939.310500</td>\n",
       "      <td>7.821227e+06</td>\n",
       "      <td>-9958.425781</td>\n",
       "      <td>0.526307</td>\n",
       "      <td>0.691072</td>\n",
       "      <td>0.487322</td>\n",
       "      <td>0.080561</td>\n",
       "      <td>0.043063</td>\n",
       "      <td>0.995819</td>\n",
       "      <td>174.758819</td>\n",
       "      <td>241.873756</td>\n",
       "      <td>-1.0</td>\n",
       "      <td>330</td>\n",
       "      <td>Default series</td>\n",
       "      <td>4</td>\n",
       "      <td>1</td>\n",
       "      <td>0.01</td>\n",
       "    </tr>\n",
       "    <tr>\n",
       "      <th>45</th>\n",
       "      <td>549276.810500</td>\n",
       "      <td>7.820683e+06</td>\n",
       "      <td>-9985.125977</td>\n",
       "      <td>0.367875</td>\n",
       "      <td>0.639198</td>\n",
       "      <td>0.484777</td>\n",
       "      <td>0.161328</td>\n",
       "      <td>-0.075208</td>\n",
       "      <td>0.984031</td>\n",
       "      <td>169.746878</td>\n",
       "      <td>294.994025</td>\n",
       "      <td>-1.0</td>\n",
       "      <td>330</td>\n",
       "      <td>Default series</td>\n",
       "      <td>4</td>\n",
       "      <td>1</td>\n",
       "      <td>0.01</td>\n",
       "    </tr>\n",
       "    <tr>\n",
       "      <th>46</th>\n",
       "      <td>548976.810500</td>\n",
       "      <td>7.820345e+06</td>\n",
       "      <td>-9974.265625</td>\n",
       "      <td>0.339285</td>\n",
       "      <td>0.607001</td>\n",
       "      <td>0.485812</td>\n",
       "      <td>0.012103</td>\n",
       "      <td>0.153310</td>\n",
       "      <td>0.988104</td>\n",
       "      <td>171.153539</td>\n",
       "      <td>184.513861</td>\n",
       "      <td>-1.0</td>\n",
       "      <td>330</td>\n",
       "      <td>Default series</td>\n",
       "      <td>4</td>\n",
       "      <td>1</td>\n",
       "      <td>0.01</td>\n",
       "    </tr>\n",
       "    <tr>\n",
       "      <th>47</th>\n",
       "      <td>549764.310500</td>\n",
       "      <td>7.820458e+06</td>\n",
       "      <td>-9901.208984</td>\n",
       "      <td>0.414332</td>\n",
       "      <td>0.617733</td>\n",
       "      <td>0.492775</td>\n",
       "      <td>-0.369491</td>\n",
       "      <td>0.187053</td>\n",
       "      <td>0.910213</td>\n",
       "      <td>155.534803</td>\n",
       "      <td>116.850651</td>\n",
       "      <td>-1.0</td>\n",
       "      <td>330</td>\n",
       "      <td>Default series</td>\n",
       "      <td>4</td>\n",
       "      <td>1</td>\n",
       "      <td>0.01</td>\n",
       "    </tr>\n",
       "    <tr>\n",
       "      <th>48</th>\n",
       "      <td>551218.849348</td>\n",
       "      <td>7.817084e+06</td>\n",
       "      <td>-10341.638563</td>\n",
       "      <td>0.552946</td>\n",
       "      <td>0.296221</td>\n",
       "      <td>0.450803</td>\n",
       "      <td>-0.934574</td>\n",
       "      <td>-0.084591</td>\n",
       "      <td>0.345565</td>\n",
       "      <td>69.783691</td>\n",
       "      <td>264.828072</td>\n",
       "      <td>1.0</td>\n",
       "      <td>Claudius_fault</td>\n",
       "      <td>Default series</td>\n",
       "      <td>5</td>\n",
       "      <td>1</td>\n",
       "      <td>0.01</td>\n",
       "    </tr>\n",
       "  </tbody>\n",
       "</table>\n",
       "</div>"
      ],
      "text/plain": [
       "                X             Y             Z       X_r       Y_r       Z_r  \\\n",
       "44  550939.310500  7.821227e+06  -9958.425781  0.526307  0.691072  0.487322   \n",
       "45  549276.810500  7.820683e+06  -9985.125977  0.367875  0.639198  0.484777   \n",
       "46  548976.810500  7.820345e+06  -9974.265625  0.339285  0.607001  0.485812   \n",
       "47  549764.310500  7.820458e+06  -9901.208984  0.414332  0.617733  0.492775   \n",
       "48  551218.849348  7.817084e+06 -10341.638563  0.552946  0.296221  0.450803   \n",
       "\n",
       "         G_x       G_y       G_z         dip     azimuth  polarity  \\\n",
       "44  0.080561  0.043063  0.995819  174.758819  241.873756      -1.0   \n",
       "45  0.161328 -0.075208  0.984031  169.746878  294.994025      -1.0   \n",
       "46  0.012103  0.153310  0.988104  171.153539  184.513861      -1.0   \n",
       "47 -0.369491  0.187053  0.910213  155.534803  116.850651      -1.0   \n",
       "48 -0.934574 -0.084591  0.345565   69.783691  264.828072       1.0   \n",
       "\n",
       "           surface          series  id  order_series  smooth  \n",
       "44             330  Default series   4             1    0.01  \n",
       "45             330  Default series   4             1    0.01  \n",
       "46             330  Default series   4             1    0.01  \n",
       "47             330  Default series   4             1    0.01  \n",
       "48  Claudius_fault  Default series   5             1    0.01  "
      ]
     },
     "execution_count": 12,
     "metadata": {},
     "output_type": "execute_result"
    }
   ],
   "source": [
    "fault_idx = geo_model.surface_points.df.index[geo_model.surface_points.df['surface'] == 'Claudius_fault']\n",
    "gp.set_orientation_from_surface_points(geo_model, fault_idx).df.tail()"
   ]
  },
  {
   "cell_type": "markdown",
   "metadata": {},
   "source": [
    "Now we can see how the data looks so far:\n",
    "\n",
    "\n"
   ]
  },
  {
   "cell_type": "code",
   "execution_count": 13,
   "metadata": {},
   "outputs": [
    {
     "data": {
      "text/html": [
       "<style  type=\"text/css\" >\n",
       "    #T_22951d42_3b92_11eb_a41d_a85e45d15c93row0_col3 {\n",
       "            background-color:  #015482;\n",
       "        }    #T_22951d42_3b92_11eb_a41d_a85e45d15c93row1_col3 {\n",
       "            background-color:  #9f0052;\n",
       "        }    #T_22951d42_3b92_11eb_a41d_a85e45d15c93row2_col3 {\n",
       "            background-color:  #ffbe00;\n",
       "        }    #T_22951d42_3b92_11eb_a41d_a85e45d15c93row3_col3 {\n",
       "            background-color:  #728f02;\n",
       "        }    #T_22951d42_3b92_11eb_a41d_a85e45d15c93row4_col3 {\n",
       "            background-color:  #443988;\n",
       "        }    #T_22951d42_3b92_11eb_a41d_a85e45d15c93row5_col3 {\n",
       "            background-color:  #ff3f20;\n",
       "        }</style><table id=\"T_22951d42_3b92_11eb_a41d_a85e45d15c93\" ><thead>    <tr>        <th class=\"blank level0\" ></th>        <th class=\"col_heading level0 col0\" >surface</th>        <th class=\"col_heading level0 col1\" >series</th>        <th class=\"col_heading level0 col2\" >order_surfaces</th>        <th class=\"col_heading level0 col3\" >color</th>        <th class=\"col_heading level0 col4\" >id</th>    </tr></thead><tbody>\n",
       "                <tr>\n",
       "                        <th id=\"T_22951d42_3b92_11eb_a41d_a85e45d15c93level0_row0\" class=\"row_heading level0 row0\" >0</th>\n",
       "                        <td id=\"T_22951d42_3b92_11eb_a41d_a85e45d15c93row0_col0\" class=\"data row0 col0\" >0</td>\n",
       "                        <td id=\"T_22951d42_3b92_11eb_a41d_a85e45d15c93row0_col1\" class=\"data row0 col1\" >Default series</td>\n",
       "                        <td id=\"T_22951d42_3b92_11eb_a41d_a85e45d15c93row0_col2\" class=\"data row0 col2\" >1</td>\n",
       "                        <td id=\"T_22951d42_3b92_11eb_a41d_a85e45d15c93row0_col3\" class=\"data row0 col3\" >#015482</td>\n",
       "                        <td id=\"T_22951d42_3b92_11eb_a41d_a85e45d15c93row0_col4\" class=\"data row0 col4\" >1</td>\n",
       "            </tr>\n",
       "            <tr>\n",
       "                        <th id=\"T_22951d42_3b92_11eb_a41d_a85e45d15c93level0_row1\" class=\"row_heading level0 row1\" >1</th>\n",
       "                        <td id=\"T_22951d42_3b92_11eb_a41d_a85e45d15c93row1_col0\" class=\"data row1 col0\" >60</td>\n",
       "                        <td id=\"T_22951d42_3b92_11eb_a41d_a85e45d15c93row1_col1\" class=\"data row1 col1\" >Default series</td>\n",
       "                        <td id=\"T_22951d42_3b92_11eb_a41d_a85e45d15c93row1_col2\" class=\"data row1 col2\" >2</td>\n",
       "                        <td id=\"T_22951d42_3b92_11eb_a41d_a85e45d15c93row1_col3\" class=\"data row1 col3\" >#9f0052</td>\n",
       "                        <td id=\"T_22951d42_3b92_11eb_a41d_a85e45d15c93row1_col4\" class=\"data row1 col4\" >2</td>\n",
       "            </tr>\n",
       "            <tr>\n",
       "                        <th id=\"T_22951d42_3b92_11eb_a41d_a85e45d15c93level0_row2\" class=\"row_heading level0 row2\" >2</th>\n",
       "                        <td id=\"T_22951d42_3b92_11eb_a41d_a85e45d15c93row2_col0\" class=\"data row2 col0\" >250</td>\n",
       "                        <td id=\"T_22951d42_3b92_11eb_a41d_a85e45d15c93row2_col1\" class=\"data row2 col1\" >Default series</td>\n",
       "                        <td id=\"T_22951d42_3b92_11eb_a41d_a85e45d15c93row2_col2\" class=\"data row2 col2\" >3</td>\n",
       "                        <td id=\"T_22951d42_3b92_11eb_a41d_a85e45d15c93row2_col3\" class=\"data row2 col3\" >#ffbe00</td>\n",
       "                        <td id=\"T_22951d42_3b92_11eb_a41d_a85e45d15c93row2_col4\" class=\"data row2 col4\" >3</td>\n",
       "            </tr>\n",
       "            <tr>\n",
       "                        <th id=\"T_22951d42_3b92_11eb_a41d_a85e45d15c93level0_row3\" class=\"row_heading level0 row3\" >3</th>\n",
       "                        <td id=\"T_22951d42_3b92_11eb_a41d_a85e45d15c93row3_col0\" class=\"data row3 col0\" >330</td>\n",
       "                        <td id=\"T_22951d42_3b92_11eb_a41d_a85e45d15c93row3_col1\" class=\"data row3 col1\" >Default series</td>\n",
       "                        <td id=\"T_22951d42_3b92_11eb_a41d_a85e45d15c93row3_col2\" class=\"data row3 col2\" >4</td>\n",
       "                        <td id=\"T_22951d42_3b92_11eb_a41d_a85e45d15c93row3_col3\" class=\"data row3 col3\" >#728f02</td>\n",
       "                        <td id=\"T_22951d42_3b92_11eb_a41d_a85e45d15c93row3_col4\" class=\"data row3 col4\" >4</td>\n",
       "            </tr>\n",
       "            <tr>\n",
       "                        <th id=\"T_22951d42_3b92_11eb_a41d_a85e45d15c93level0_row4\" class=\"row_heading level0 row4\" >4</th>\n",
       "                        <td id=\"T_22951d42_3b92_11eb_a41d_a85e45d15c93row4_col0\" class=\"data row4 col0\" >Claudius_fault</td>\n",
       "                        <td id=\"T_22951d42_3b92_11eb_a41d_a85e45d15c93row4_col1\" class=\"data row4 col1\" >Default series</td>\n",
       "                        <td id=\"T_22951d42_3b92_11eb_a41d_a85e45d15c93row4_col2\" class=\"data row4 col2\" >5</td>\n",
       "                        <td id=\"T_22951d42_3b92_11eb_a41d_a85e45d15c93row4_col3\" class=\"data row4 col3\" >#443988</td>\n",
       "                        <td id=\"T_22951d42_3b92_11eb_a41d_a85e45d15c93row4_col4\" class=\"data row4 col4\" >5</td>\n",
       "            </tr>\n",
       "            <tr>\n",
       "                        <th id=\"T_22951d42_3b92_11eb_a41d_a85e45d15c93level0_row5\" class=\"row_heading level0 row5\" >5</th>\n",
       "                        <td id=\"T_22951d42_3b92_11eb_a41d_a85e45d15c93row5_col0\" class=\"data row5 col0\" >basement</td>\n",
       "                        <td id=\"T_22951d42_3b92_11eb_a41d_a85e45d15c93row5_col1\" class=\"data row5 col1\" >Basement</td>\n",
       "                        <td id=\"T_22951d42_3b92_11eb_a41d_a85e45d15c93row5_col2\" class=\"data row5 col2\" >1</td>\n",
       "                        <td id=\"T_22951d42_3b92_11eb_a41d_a85e45d15c93row5_col3\" class=\"data row5 col3\" >#ff3f20</td>\n",
       "                        <td id=\"T_22951d42_3b92_11eb_a41d_a85e45d15c93row5_col4\" class=\"data row5 col4\" >6</td>\n",
       "            </tr>\n",
       "    </tbody></table>"
      ],
      "text/plain": [
       "          surface          series  order_surfaces    color  id\n",
       "0               0  Default series               1  #015482   1\n",
       "1              60  Default series               2  #9f0052   2\n",
       "2             250  Default series               3  #ffbe00   3\n",
       "3             330  Default series               4  #728f02   4\n",
       "4  Claudius_fault  Default series               5  #443988   5\n",
       "5        basement        Basement               1  #ff3f20   6"
      ]
     },
     "execution_count": 13,
     "metadata": {},
     "output_type": "execute_result"
    }
   ],
   "source": [
    "geo_model.surfaces"
   ]
  },
  {
   "cell_type": "code",
   "execution_count": 14,
   "metadata": {},
   "outputs": [
    {
     "name": "stderr",
     "output_type": "stream",
     "text": [
      "D:\\Hsintien_tsai\\Anaconda3\\envs\\GempyEnve1208\\lib\\site-packages\\gempy\\plot\\plot_api.py:261: UserWarning: Matplotlib is currently using module://ipykernel.pylab.backend_inline, which is a non-GUI backend, so cannot show the figure.\n",
      "  p.fig.show()\n"
     ]
    },
    {
     "data": {
      "text/plain": [
       "<gempy.plot.visualization_2d.Plot2D at 0x10458f3bf48>"
      ]
     },
     "execution_count": 14,
     "metadata": {},
     "output_type": "execute_result"
    },
    {
     "data": {
      "image/png": "[encoded data removed]",
      "text/plain": [
       "<Figure size 748.8x514.8 with 1 Axes>"
      ]
     },
     "metadata": {},
     "output_type": "display_data"
    }
   ],
   "source": [
    "gp.plot_2d(geo_model, direction='y')"
   ]
  },
  {
   "cell_type": "markdown",
   "metadata": {},
   "source": [
    "By default all surfaces belong to one unique series.\n",
    "\n",
    "\n"
   ]
  },
  {
   "cell_type": "code",
   "execution_count": 15,
   "metadata": {},
   "outputs": [
    {
     "data": {
      "text/html": [
       "<style  type=\"text/css\" >\n",
       "    #T_22c7b780_3b92_11eb_b285_a85e45d15c93row0_col3 {\n",
       "            background-color:  #015482;\n",
       "        }    #T_22c7b780_3b92_11eb_b285_a85e45d15c93row1_col3 {\n",
       "            background-color:  #9f0052;\n",
       "        }    #T_22c7b780_3b92_11eb_b285_a85e45d15c93row2_col3 {\n",
       "            background-color:  #ffbe00;\n",
       "        }    #T_22c7b780_3b92_11eb_b285_a85e45d15c93row3_col3 {\n",
       "            background-color:  #728f02;\n",
       "        }    #T_22c7b780_3b92_11eb_b285_a85e45d15c93row4_col3 {\n",
       "            background-color:  #443988;\n",
       "        }    #T_22c7b780_3b92_11eb_b285_a85e45d15c93row5_col3 {\n",
       "            background-color:  #ff3f20;\n",
       "        }</style><table id=\"T_22c7b780_3b92_11eb_b285_a85e45d15c93\" ><thead>    <tr>        <th class=\"blank level0\" ></th>        <th class=\"col_heading level0 col0\" >surface</th>        <th class=\"col_heading level0 col1\" >series</th>        <th class=\"col_heading level0 col2\" >order_surfaces</th>        <th class=\"col_heading level0 col3\" >color</th>        <th class=\"col_heading level0 col4\" >id</th>    </tr></thead><tbody>\n",
       "                <tr>\n",
       "                        <th id=\"T_22c7b780_3b92_11eb_b285_a85e45d15c93level0_row0\" class=\"row_heading level0 row0\" >0</th>\n",
       "                        <td id=\"T_22c7b780_3b92_11eb_b285_a85e45d15c93row0_col0\" class=\"data row0 col0\" >0</td>\n",
       "                        <td id=\"T_22c7b780_3b92_11eb_b285_a85e45d15c93row0_col1\" class=\"data row0 col1\" >Default series</td>\n",
       "                        <td id=\"T_22c7b780_3b92_11eb_b285_a85e45d15c93row0_col2\" class=\"data row0 col2\" >1</td>\n",
       "                        <td id=\"T_22c7b780_3b92_11eb_b285_a85e45d15c93row0_col3\" class=\"data row0 col3\" >#015482</td>\n",
       "                        <td id=\"T_22c7b780_3b92_11eb_b285_a85e45d15c93row0_col4\" class=\"data row0 col4\" >1</td>\n",
       "            </tr>\n",
       "            <tr>\n",
       "                        <th id=\"T_22c7b780_3b92_11eb_b285_a85e45d15c93level0_row1\" class=\"row_heading level0 row1\" >1</th>\n",
       "                        <td id=\"T_22c7b780_3b92_11eb_b285_a85e45d15c93row1_col0\" class=\"data row1 col0\" >60</td>\n",
       "                        <td id=\"T_22c7b780_3b92_11eb_b285_a85e45d15c93row1_col1\" class=\"data row1 col1\" >Default series</td>\n",
       "                        <td id=\"T_22c7b780_3b92_11eb_b285_a85e45d15c93row1_col2\" class=\"data row1 col2\" >2</td>\n",
       "                        <td id=\"T_22c7b780_3b92_11eb_b285_a85e45d15c93row1_col3\" class=\"data row1 col3\" >#9f0052</td>\n",
       "                        <td id=\"T_22c7b780_3b92_11eb_b285_a85e45d15c93row1_col4\" class=\"data row1 col4\" >2</td>\n",
       "            </tr>\n",
       "            <tr>\n",
       "                        <th id=\"T_22c7b780_3b92_11eb_b285_a85e45d15c93level0_row2\" class=\"row_heading level0 row2\" >2</th>\n",
       "                        <td id=\"T_22c7b780_3b92_11eb_b285_a85e45d15c93row2_col0\" class=\"data row2 col0\" >250</td>\n",
       "                        <td id=\"T_22c7b780_3b92_11eb_b285_a85e45d15c93row2_col1\" class=\"data row2 col1\" >Default series</td>\n",
       "                        <td id=\"T_22c7b780_3b92_11eb_b285_a85e45d15c93row2_col2\" class=\"data row2 col2\" >3</td>\n",
       "                        <td id=\"T_22c7b780_3b92_11eb_b285_a85e45d15c93row2_col3\" class=\"data row2 col3\" >#ffbe00</td>\n",
       "                        <td id=\"T_22c7b780_3b92_11eb_b285_a85e45d15c93row2_col4\" class=\"data row2 col4\" >3</td>\n",
       "            </tr>\n",
       "            <tr>\n",
       "                        <th id=\"T_22c7b780_3b92_11eb_b285_a85e45d15c93level0_row3\" class=\"row_heading level0 row3\" >3</th>\n",
       "                        <td id=\"T_22c7b780_3b92_11eb_b285_a85e45d15c93row3_col0\" class=\"data row3 col0\" >330</td>\n",
       "                        <td id=\"T_22c7b780_3b92_11eb_b285_a85e45d15c93row3_col1\" class=\"data row3 col1\" >Default series</td>\n",
       "                        <td id=\"T_22c7b780_3b92_11eb_b285_a85e45d15c93row3_col2\" class=\"data row3 col2\" >4</td>\n",
       "                        <td id=\"T_22c7b780_3b92_11eb_b285_a85e45d15c93row3_col3\" class=\"data row3 col3\" >#728f02</td>\n",
       "                        <td id=\"T_22c7b780_3b92_11eb_b285_a85e45d15c93row3_col4\" class=\"data row3 col4\" >4</td>\n",
       "            </tr>\n",
       "            <tr>\n",
       "                        <th id=\"T_22c7b780_3b92_11eb_b285_a85e45d15c93level0_row4\" class=\"row_heading level0 row4\" >4</th>\n",
       "                        <td id=\"T_22c7b780_3b92_11eb_b285_a85e45d15c93row4_col0\" class=\"data row4 col0\" >Claudius_fault</td>\n",
       "                        <td id=\"T_22c7b780_3b92_11eb_b285_a85e45d15c93row4_col1\" class=\"data row4 col1\" >Default series</td>\n",
       "                        <td id=\"T_22c7b780_3b92_11eb_b285_a85e45d15c93row4_col2\" class=\"data row4 col2\" >5</td>\n",
       "                        <td id=\"T_22c7b780_3b92_11eb_b285_a85e45d15c93row4_col3\" class=\"data row4 col3\" >#443988</td>\n",
       "                        <td id=\"T_22c7b780_3b92_11eb_b285_a85e45d15c93row4_col4\" class=\"data row4 col4\" >5</td>\n",
       "            </tr>\n",
       "            <tr>\n",
       "                        <th id=\"T_22c7b780_3b92_11eb_b285_a85e45d15c93level0_row5\" class=\"row_heading level0 row5\" >5</th>\n",
       "                        <td id=\"T_22c7b780_3b92_11eb_b285_a85e45d15c93row5_col0\" class=\"data row5 col0\" >basement</td>\n",
       "                        <td id=\"T_22c7b780_3b92_11eb_b285_a85e45d15c93row5_col1\" class=\"data row5 col1\" >Basement</td>\n",
       "                        <td id=\"T_22c7b780_3b92_11eb_b285_a85e45d15c93row5_col2\" class=\"data row5 col2\" >1</td>\n",
       "                        <td id=\"T_22c7b780_3b92_11eb_b285_a85e45d15c93row5_col3\" class=\"data row5 col3\" >#ff3f20</td>\n",
       "                        <td id=\"T_22c7b780_3b92_11eb_b285_a85e45d15c93row5_col4\" class=\"data row5 col4\" >6</td>\n",
       "            </tr>\n",
       "    </tbody></table>"
      ],
      "text/plain": [
       "          surface          series  order_surfaces    color  id\n",
       "0               0  Default series               1  #015482   1\n",
       "1              60  Default series               2  #9f0052   2\n",
       "2             250  Default series               3  #ffbe00   3\n",
       "3             330  Default series               4  #728f02   4\n",
       "4  Claudius_fault  Default series               5  #443988   5\n",
       "5        basement        Basement               1  #ff3f20   6"
      ]
     },
     "execution_count": 15,
     "metadata": {},
     "output_type": "execute_result"
    }
   ],
   "source": [
    "geo_model.surfaces"
   ]
  },
  {
   "cell_type": "markdown",
   "metadata": {},
   "source": [
    "We will need to separate with surface belong to each series:\n",
    "\n",
    "\n"
   ]
  },
  {
   "cell_type": "code",
   "execution_count": 16,
   "metadata": {},
   "outputs": [],
   "source": [
    "stratigraphy = 'fixed'"
   ]
  },
  {
   "cell_type": "code",
   "execution_count": 17,
   "metadata": {},
   "outputs": [],
   "source": [
    "if stratigraphy == 'original':\n",
    "    gp.map_stack_to_surfaces(geo_model, {'Fault': 'Claudius_fault',\n",
    "                                         'Default series': ('0', '60', '250', '330'),\n",
    "                                         })\n",
    "    # Ordering the events from younger to older:\n",
    "    geo_model.reorder_series(['Fault', 'Default series', 'Basement'])\n",
    "\n",
    "\n",
    "elif stratigraphy == 'fixed':\n",
    "    gp.map_stack_to_surfaces(geo_model, {'Default series': ('0', '60', '250'),\n",
    "                                         'Fault': 'Claudius_fault',\n",
    "                                         'Uncomformity': '330',\n",
    "                                         })\n",
    "    # Ordering the events from younger to older:\n",
    "    geo_model.reorder_series(['Default series', 'Fault', 'Uncomformity', 'Basement'])"
   ]
  },
  {
   "cell_type": "markdown",
   "metadata": {},
   "source": [
    "So far we did not specify which series/faults are actula faults:\n",
    "\n",
    "\n"
   ]
  },
  {
   "cell_type": "code",
   "execution_count": 18,
   "metadata": {},
   "outputs": [
    {
     "name": "stdout",
     "output_type": "stream",
     "text": [
      "Fault colors changed. If you do not like this behavior, set change_color to False.\n"
     ]
    },
    {
     "data": {
      "text/html": [
       "<table border=\"1\" class=\"dataframe\">\n",
       "  <thead>\n",
       "    <tr style=\"text-align: right;\">\n",
       "      <th></th>\n",
       "      <th>order_series</th>\n",
       "      <th>BottomRelation</th>\n",
       "      <th>isActive</th>\n",
       "      <th>isFault</th>\n",
       "      <th>isFinite</th>\n",
       "    </tr>\n",
       "  </thead>\n",
       "  <tbody>\n",
       "    <tr>\n",
       "      <th>Default series</th>\n",
       "      <td>1</td>\n",
       "      <td>Erosion</td>\n",
       "      <td>True</td>\n",
       "      <td>False</td>\n",
       "      <td>False</td>\n",
       "    </tr>\n",
       "    <tr>\n",
       "      <th>Fault</th>\n",
       "      <td>2</td>\n",
       "      <td>Fault</td>\n",
       "      <td>True</td>\n",
       "      <td>True</td>\n",
       "      <td>False</td>\n",
       "    </tr>\n",
       "    <tr>\n",
       "      <th>Uncomformity</th>\n",
       "      <td>3</td>\n",
       "      <td>Erosion</td>\n",
       "      <td>True</td>\n",
       "      <td>False</td>\n",
       "      <td>False</td>\n",
       "    </tr>\n",
       "    <tr>\n",
       "      <th>Basement</th>\n",
       "      <td>4</td>\n",
       "      <td>Erosion</td>\n",
       "      <td>False</td>\n",
       "      <td>False</td>\n",
       "      <td>False</td>\n",
       "    </tr>\n",
       "  </tbody>\n",
       "</table>"
      ],
      "text/plain": [
       "                order_series BottomRelation  isActive  isFault  isFinite\n",
       "Default series             1        Erosion      True    False     False\n",
       "Fault                      2          Fault      True     True     False\n",
       "Uncomformity               3        Erosion      True    False     False\n",
       "Basement                   4        Erosion     False    False     False"
      ]
     },
     "execution_count": 18,
     "metadata": {},
     "output_type": "execute_result"
    }
   ],
   "source": [
    "geo_model.set_is_fault('Fault')"
   ]
  },
  {
   "cell_type": "markdown",
   "metadata": {},
   "source": [
    "Ordering the events from younger to older:\n",
    "\n",
    "\n"
   ]
  },
  {
   "cell_type": "markdown",
   "metadata": {},
   "source": [
    "geo_model.reorder_series(['Default series', 'Fault', 'Uncomformity', 'Basement'])\n",
    "\n"
   ]
  },
  {
   "cell_type": "markdown",
   "metadata": {},
   "source": [
    "Check which series/faults are affected by other faults (rows offset\n",
    "columns):\n",
    "\n",
    "\n"
   ]
  },
  {
   "cell_type": "code",
   "execution_count": 19,
   "metadata": {},
   "outputs": [
    {
     "data": {
      "text/html": [
       "<div>\n",
       "<style scoped>\n",
       "    .dataframe tbody tr th:only-of-type {\n",
       "        vertical-align: middle;\n",
       "    }\n",
       "\n",
       "    .dataframe tbody tr th {\n",
       "        vertical-align: top;\n",
       "    }\n",
       "\n",
       "    .dataframe thead th {\n",
       "        text-align: right;\n",
       "    }\n",
       "</style>\n",
       "<table border=\"1\" class=\"dataframe\">\n",
       "  <thead>\n",
       "    <tr style=\"text-align: right;\">\n",
       "      <th></th>\n",
       "      <th>Default series</th>\n",
       "      <th>Fault</th>\n",
       "      <th>Uncomformity</th>\n",
       "      <th>Basement</th>\n",
       "    </tr>\n",
       "  </thead>\n",
       "  <tbody>\n",
       "    <tr>\n",
       "      <th>Default series</th>\n",
       "      <td>False</td>\n",
       "      <td>False</td>\n",
       "      <td>False</td>\n",
       "      <td>False</td>\n",
       "    </tr>\n",
       "    <tr>\n",
       "      <th>Fault</th>\n",
       "      <td>False</td>\n",
       "      <td>False</td>\n",
       "      <td>True</td>\n",
       "      <td>True</td>\n",
       "    </tr>\n",
       "    <tr>\n",
       "      <th>Uncomformity</th>\n",
       "      <td>False</td>\n",
       "      <td>False</td>\n",
       "      <td>False</td>\n",
       "      <td>False</td>\n",
       "    </tr>\n",
       "    <tr>\n",
       "      <th>Basement</th>\n",
       "      <td>False</td>\n",
       "      <td>False</td>\n",
       "      <td>False</td>\n",
       "      <td>False</td>\n",
       "    </tr>\n",
       "  </tbody>\n",
       "</table>\n",
       "</div>"
      ],
      "text/plain": [
       "                Default series  Fault  Uncomformity  Basement\n",
       "Default series           False  False         False     False\n",
       "Fault                    False  False          True      True\n",
       "Uncomformity             False  False         False     False\n",
       "Basement                 False  False         False     False"
      ]
     },
     "execution_count": 19,
     "metadata": {},
     "output_type": "execute_result"
    }
   ],
   "source": [
    "geo_model.faults.faults_relations_df"
   ]
  },
  {
   "cell_type": "markdown",
   "metadata": {},
   "source": [
    "Now we are good to go:\n",
    "\n",
    "\n"
   ]
  },
  {
   "cell_type": "code",
   "execution_count": null,
   "metadata": {},
   "outputs": [
    {
     "name": "stdout",
     "output_type": "stream",
     "text": [
      "Setting kriging parameters to their default values.\n",
      "Compiling theano function...\n"
     ]
    }
   ],
   "source": [
    "gp.set_interpolator(geo_model, theano_optimizer='fast_run',\n",
    "                    compile_theano=True)"
   ]
  },
  {
   "cell_type": "code",
   "execution_count": null,
   "metadata": {},
   "outputs": [],
   "source": [
    "gp.compute_model(geo_model)"
   ]
  },
  {
   "cell_type": "code",
   "execution_count": null,
   "metadata": {},
   "outputs": [],
   "source": [
    "sect = [35]\n",
    "\n",
    "gp.plot_2d(geo_model, cell_number=sect, series_n=1, show_scalar=True, direction='x')"
   ]
  },
  {
   "cell_type": "code",
   "execution_count": null,
   "metadata": {},
   "outputs": [],
   "source": [
    "gp.plot_2d(geo_model, cell_number=sect, show_data=True, direction='x')"
   ]
  },
  {
   "cell_type": "code",
   "execution_count": null,
   "metadata": {},
   "outputs": [],
   "source": [
    "gp.plot_2d(geo_model, cell_number=[28], series_n=0, direction='y', show_scalar=True)\n",
    "gp.plot_2d(geo_model, cell_number=[28], series_n=1, direction='y', show_scalar=True)\n",
    "gp.plot_2d(geo_model, cell_number=[28], series_n=2, direction='y', show_scalar=True)"
   ]
  },
  {
   "cell_type": "code",
   "execution_count": null,
   "metadata": {},
   "outputs": [],
   "source": [
    "gp.plot_2d(geo_model, cell_number=[28], show_data=True, direction='y')"
   ]
  },
  {
   "cell_type": "code",
   "execution_count": null,
   "metadata": {},
   "outputs": [],
   "source": [
    "# sphinx_gallery_thumbnail_number = 8\n",
    "gp.plot_3d(geo_model)"
   ]
  },
  {
   "cell_type": "code",
   "execution_count": null,
   "metadata": {},
   "outputs": [],
   "source": [
    "d=gp.plot_3d(geo_model)\n",
    "d"
   ]
  },
  {
   "cell_type": "code",
   "execution_count": null,
   "metadata": {},
   "outputs": [],
   "source": [
    "#空的框框\n",
    "#result, _=d.create_regular_mesh('all','Default','',True)\n",
    "#dict\n",
    "#result=d.surface_actors\n",
    "#dict\n",
    "#result=d.surface_poly\n",
    "#vtkmodules\n",
    "#result=d.regular_grid_actor\n",
    "#pyvista空的框框\n",
    "#result=d.regular_grid_mesh\n",
    "#vtkmodules\n",
    "result=d.surface_points_actor\n",
    "#pyvista只有點\n",
    "#result=d.surface_points_mesh\n",
    "#dict\n",
    "#result=d.surface_points_widgets\n",
    "#vtkmodules\n",
    "#result=d.orientations_actor\n",
    "#pyvista 方向箭頭\n",
    "#result=d.orientations_mesh\n",
    "#dict\n",
    "#result=d.orientations_widgets\n",
    "#numpy\n",
    "#result=d._grid_values\n",
    "#dict\n",
    "#result=d._cmaps\n",
    "#NoneType\n",
    "#result=d.topo_edges\n",
    "#NoneType\n",
    "#result=d.topo_ctrs\n",
    "#gempy\n",
    "#result=d.model \n",
    "#numpy\n",
    "#result=d.extent\n",
    "#bool\n",
    "#result=d.live_updating"
   ]
  },
  {
   "cell_type": "code",
   "execution_count": null,
   "metadata": {},
   "outputs": [],
   "source": [
    "type(result)"
   ]
  },
  {
   "cell_type": "code",
   "execution_count": null,
   "metadata": {},
   "outputs": [],
   "source": [
    "help(result)"
   ]
  },
  {
   "cell_type": "code",
   "execution_count": null,
   "metadata": {},
   "outputs": [],
   "source": [
    "result.save(\"orientations_mesh.vtk\")"
   ]
  },
  {
   "cell_type": "code",
   "execution_count": null,
   "metadata": {},
   "outputs": [],
   "source": [
    "result"
   ]
  },
  {
   "cell_type": "code",
   "execution_count": null,
   "metadata": {},
   "outputs": [],
   "source": [
    "gp.save_model(geo_model)"
   ]
  }
 ],
 "metadata": {
  "kernelspec": {
   "display_name": "Python 3",
   "language": "python",
   "name": "python3"
  },
  "language_info": {
   "codemirror_mode": {
    "name": "ipython",
    "version": 3
   },
   "file_extension": ".py",
   "mimetype": "text/x-python",
   "name": "python",
   "nbconvert_exporter": "python",
   "pygments_lexer": "ipython3",
   "version": "3.7.9"
  }
 },
 "nbformat": 4,
 "nbformat_minor": 1
}

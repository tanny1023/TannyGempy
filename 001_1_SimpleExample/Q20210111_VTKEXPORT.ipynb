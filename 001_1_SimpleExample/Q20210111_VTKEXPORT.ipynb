{
 "cells": [
  {
   "cell_type": "code",
   "execution_count": 1,
   "metadata": {},
   "outputs": [],
   "source": [
    "import gempy as gp\n",
    "import pyevtk\n",
    "# Importing auxiliary libraries\n",
    "import numpy as np\n",
    "import pandas as pd\n",
    "import matplotlib.pyplot as plt\n",
    "import os\n",
    "\n",
    "# Setting options\n",
    "np.random.seed(1515)\n",
    "pd.set_option('precision', 2)"
   ]
  },
  {
   "cell_type": "code",
   "execution_count": 2,
   "metadata": {},
   "outputs": [],
   "source": [
    "geo_model = gp.create_model('Tutorial_ch1_1_Basics')"
   ]
  },
  {
   "cell_type": "code",
   "execution_count": 3,
   "metadata": {},
   "outputs": [
    {
     "name": "stdout",
     "output_type": "stream",
     "text": [
      "Active grids: ['regular']\n"
     ]
    },
    {
     "data": {
      "text/plain": [
       "Tutorial_ch1_1_Basics  2021-01-11 17:13"
      ]
     },
     "execution_count": 3,
     "metadata": {},
     "output_type": "execute_result"
    }
   ],
   "source": [
    "data_path = 'https://raw.githubusercontent.com/cgre-aachen/gempy_data/master/'\n",
    "# Importing the data from CSV-files and setting extent and resolution\n",
    "gp.init_data(geo_model, [0, 2000., 0, 2000., 0, 750.], [50, 50, 50],\n",
    "             path_o=data_path + \"/data/input_data/getting_started/\"\n",
    "                                \"simple_fault_model_orientations.csv\",\n",
    "             path_i=data_path + \"/data/input_data/getting_started/\"\n",
    "                                \"simple_fault_model_points.csv\",\n",
    "             default_values=True)"
   ]
  },
  {
   "cell_type": "code",
   "execution_count": 4,
   "metadata": {},
   "outputs": [
    {
     "name": "stdout",
     "output_type": "stream",
     "text": [
      "Setting kriging parameters to their default values.\n",
      "Compiling theano function...\n",
      "Level of Optimization:  fast_compile\n",
      "Device:  cpu\n",
      "Precision:  float64\n",
      "Number of faults:  0\n",
      "Compilation Done!\n",
      "Kriging values: \n",
      "                   values\n",
      "range            2.9e+03\n",
      "$C_o$              2e+05\n",
      "drift equations   [3, 3]\n"
     ]
    },
    {
     "data": {
      "text/plain": [
       "<gempy.core.interpolator.InterpolatorModel at 0x22c46240708>"
      ]
     },
     "execution_count": 4,
     "metadata": {},
     "output_type": "execute_result"
    }
   ],
   "source": [
    "gp.set_interpolator(geo_model,\n",
    "                    compile_theano=True,\n",
    "                    theano_optimizer='fast_compile',\n",
    "                    )"
   ]
  },
  {
   "cell_type": "code",
   "execution_count": 5,
   "metadata": {},
   "outputs": [
    {
     "data": {
      "text/html": [
       "<table border=\"1\" class=\"dataframe\">\n",
       "  <thead>\n",
       "    <tr style=\"text-align: right;\">\n",
       "      <th></th>\n",
       "      <th>values</th>\n",
       "    </tr>\n",
       "  </thead>\n",
       "  <tbody>\n",
       "    <tr>\n",
       "      <th>range</th>\n",
       "      <td>2.9e+03</td>\n",
       "    </tr>\n",
       "    <tr>\n",
       "      <th>$C_o$</th>\n",
       "      <td>2e+05</td>\n",
       "    </tr>\n",
       "    <tr>\n",
       "      <th>drift equations</th>\n",
       "      <td>[3, 3]</td>\n",
       "    </tr>\n",
       "  </tbody>\n",
       "</table>"
      ],
      "text/plain": [
       "                  values\n",
       "range            2.9e+03\n",
       "$C_o$              2e+05\n",
       "drift equations   [3, 3]"
      ]
     },
     "execution_count": 5,
     "metadata": {},
     "output_type": "execute_result"
    }
   ],
   "source": [
    "gp.get_data(geo_model, 'kriging')"
   ]
  },
  {
   "cell_type": "code",
   "execution_count": 6,
   "metadata": {},
   "outputs": [],
   "source": [
    "sol = gp.compute_model(geo_model)"
   ]
  },
  {
   "cell_type": "code",
   "execution_count": 16,
   "metadata": {},
   "outputs": [],
   "source": [
    "ver, sim = gp.get_surfaces(geo_model)\n",
    "gpv = gp.plot_3d(geo_model, image=False, plotter_type='basic')"
   ]
  },
  {
   "cell_type": "code",
   "execution_count": 7,
   "metadata": {},
   "outputs": [
    {
     "name": "stdout",
     "output_type": "stream",
     "text": [
      "regular grid:\t [50 50 50] \t [   0 2000    0 2000    0  750]\n"
     ]
    }
   ],
   "source": [
    "# Simple export to VTK:\n",
    "print('regular grid:\\t', sol.grid.regular_grid.resolution, '\\t', sol.grid.regular_grid.extent.astype(int))"
   ]
  },
  {
   "cell_type": "code",
   "execution_count": 15,
   "metadata": {},
   "outputs": [
    {
     "name": "stdout",
     "output_type": "stream",
     "text": [
      "x: 0.0 2000.0 50 40.0\n",
      "y: 0.0 2000.0 50 40.0\n",
      "z: 0.0 750.0 50 15.0\n",
      "shape of array to export: (50, 50, 50)\n"
     ]
    },
    {
     "data": {
      "text/plain": [
       "'D:\\\\Hsintien_tsai\\\\Python\\\\TannyVTK20210111.vtr'"
      ]
     },
     "execution_count": 15,
     "metadata": {},
     "output_type": "execute_result"
    },
    {
     "data": {
      "image/png": "[encoded data removed]",
      "text/plain": [
       "<Figure size 748.8x514.8 with 1 Axes>"
      ]
     },
     "metadata": {},
     "output_type": "display_data"
    }
   ],
   "source": [
    "#Export whole, uncropped lith_block\n",
    "#Get coordinate info from grid & create VTK cells info:\n",
    "xmin = sol.grid.regular_grid.extent[0]\n",
    "xmax = sol.grid.regular_grid.extent[1]\n",
    "xres = sol.grid.regular_grid.resolution[0]\n",
    "dx   = (xmax-xmin)/xres                       #pixel width\n",
    "xvals = np.arange(xmin,xmax+dx,dx)\n",
    "\n",
    "ymin = sol.grid.regular_grid.extent[2]\n",
    "ymax = sol.grid.regular_grid.extent[3]\n",
    "yres = sol.grid.regular_grid.resolution[1]\n",
    "dy   = (ymax-ymin)/yres\n",
    "yvals = np.arange(ymin,ymax+dy,dy)\n",
    "\n",
    "zmin = sol.grid.regular_grid.extent[4]\n",
    "zmax = sol.grid.regular_grid.extent[5]\n",
    "zres = sol.grid.regular_grid.resolution[2]\n",
    "dz   = (zmax-zmin)/zres\n",
    "zvals = np.arange(zmin,zmax+dz,dz)\n",
    "\n",
    "print('x:', xmin,xmax,xres,dx)\n",
    "print('y:', ymin,ymax,yres,dy)\n",
    "print('z:', zmin,zmax,zres,dz)\n",
    "\n",
    "g = sol.lith_block.copy()            #make a copy to avoid messing up original\n",
    "g = np.reshape(g, (xres,yres,zres))  #reshape lith block to 3D\n",
    "print('shape of array to export:', g.shape)\n",
    "plt.imshow(g[:,:,zres-1])\n",
    "path = r'./TannyVTK20210111'  #set file path to save to (should have no extension)\n",
    "pyevtk.hl.gridToVTK(path, xvals, yvals, zvals, cellData={'data': g}) #export to VTK"
   ]
  },
  {
   "cell_type": "code",
   "execution_count": 18,
   "metadata": {},
   "outputs": [
    {
     "data": {
      "text/plain": [
       "gempy.core.solution.Solution"
      ]
     },
     "execution_count": 18,
     "metadata": {},
     "output_type": "execute_result"
    }
   ],
   "source": [
    "type(sol)"
   ]
  },
  {
   "cell_type": "code",
   "execution_count": 26,
   "metadata": {},
   "outputs": [],
   "source": [
    "#試著把檔案讀近來\n",
    "import pyvista as pv\n",
    "# Read the file\n",
    "file= 'TannyVTK20210111.vtr'\n",
    "datainfo = pv.read(file)\n",
    "extents = datainfo.extent"
   ]
  },
  {
   "cell_type": "code",
   "execution_count": 27,
   "metadata": {},
   "outputs": [
    {
     "data": {
      "text/plain": [
       "list"
      ]
     },
     "execution_count": 27,
     "metadata": {},
     "output_type": "execute_result"
    }
   ],
   "source": [
    "#想要找類型是VTK的檔案\n",
    "type(extents)"
   ]
  }
 ],
 "metadata": {
  "kernelspec": {
   "display_name": "Python 3",
   "language": "python",
   "name": "python3"
  },
  "language_info": {
   "codemirror_mode": {
    "name": "ipython",
    "version": 3
   },
   "file_extension": ".py",
   "mimetype": "text/x-python",
   "name": "python",
   "nbconvert_exporter": "python",
   "pygments_lexer": "ipython3",
   "version": "3.7.9"
  }
 },
 "nbformat": 4,
 "nbformat_minor": 4
}
